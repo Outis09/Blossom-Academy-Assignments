{
 "cells": [
  {
   "cell_type": "markdown",
   "id": "352dd2e3",
   "metadata": {},
   "source": [
    "### Q1\n",
    "\n",
    "Define a python function that calculate the perimeter of the rectangle\n",
    "\n",
    "Formular\n",
    "\n",
    "formular => 2 X length + 2 X Width"
   ]
  },
  {
   "cell_type": "code",
   "execution_count": 1,
   "id": "872f5773",
   "metadata": {},
   "outputs": [
    {
     "name": "stdout",
     "output_type": "stream",
     "text": [
      "Enter length of your rectangle: 4\n",
      "Enter width of your rectangle8\n",
      "The perimeter of your rectangle is: 24\n"
     ]
    }
   ],
   "source": [
    "length = int(input(\"Enter length of your rectangle: \"))\n",
    "width = int(input(\"Enter width of your rectangle\"))\n",
    "\n",
    "def perimeter(l,w):\n",
    "    '''\n",
    "    This function calculates the perimeter of a rectangle\n",
    "    \n",
    "    INPUT:\n",
    "    l: length of rectangle\n",
    "    w: width of rectangle\n",
    "    '''\n",
    "    prmtr = (2 * l) + (2 *w)\n",
    "    print(f\"The perimeter of your rectangle is: {prmtr}\")\n",
    "    \n",
    "perimeter(length,width)"
   ]
  },
  {
   "cell_type": "markdown",
   "id": "a56ccec8",
   "metadata": {},
   "source": [
    "### Q2\n",
    "Define the function to calculate the area of a circle. Round the answer to 3 decimal places.\n",
    "\n",
    "**Preamble**\n",
    " - Take pi as 22/7\n",
    " - formular pi x r ** 2"
   ]
  },
  {
   "cell_type": "code",
   "execution_count": 2,
   "id": "1ab77f5d",
   "metadata": {},
   "outputs": [
    {
     "name": "stdout",
     "output_type": "stream",
     "text": [
      "Enter radius of your circle: 5\n",
      "The area of your circle is 78.571\n"
     ]
    }
   ],
   "source": [
    "radius = int(input(\"Enter radius of your circle: \"))\n",
    "\n",
    "def area(r):\n",
    "    '''\n",
    "    Calculates the area of a circle given the radius\n",
    "    \n",
    "    INPUT:\n",
    "    r: radius of the cricle\n",
    "    '''\n",
    "    pi = 22/7\n",
    "    area = round((pi * (r ** 2)),3)\n",
    "    print(f\"The area of your circle is {area}\")\n",
    "    \n",
    "area(radius)"
   ]
  },
  {
   "cell_type": "markdown",
   "id": "be5a6965",
   "metadata": {},
   "source": [
    "### Q3\n",
    "Define a function that takes a list of numbers and print out the **mean**, **median** and **mode**.\n",
    "\n",
    "- Test your function with the list b\n",
    "\n",
    "`b = [2,3,4,6,7,3,4,3,2,1,3]`"
   ]
  },
  {
   "cell_type": "code",
   "execution_count": 3,
   "id": "01ab608a",
   "metadata": {},
   "outputs": [
    {
     "name": "stdout",
     "output_type": "stream",
     "text": [
      "The mean of the numbers is: 3.455\n",
      "The median of the numbers is: 3\n",
      "The mode of the numbers is: 4\n"
     ]
    }
   ],
   "source": [
    "b = [2,3,4,6,7,3,4,3,2,1,3]\n",
    "\n",
    "def stats(lst):\n",
    "    '''\n",
    "    Calculates the mean, mode and median of numbers in a list\n",
    "    \n",
    "    INPUT:\n",
    "    lst: list of numbers\n",
    "    '''\n",
    "    mean = round(sum(lst)/len(lst),3)\n",
    "    print(f\"The mean of the numbers is: {mean}\")\n",
    "    median = sorted(b)[len(b)// 2]\n",
    "    print(f\"The median of the numbers is: {median}\")\n",
    "    diction = {}\n",
    "    for value in lst:\n",
    "        diction[value] = b.count(value)\n",
    "    max_value = max(diction.values())\n",
    "    print(f\"The mode of the numbers is: {max_value}\")\n",
    "          \n",
    "stats(b)"
   ]
  },
  {
   "cell_type": "markdown",
   "id": "3313ab10",
   "metadata": {},
   "source": [
    "### Q4\n",
    "Define a function that prints out the list of the first 20 prime numbers"
   ]
  },
  {
   "cell_type": "code",
   "execution_count": 4,
   "id": "3cdce5aa",
   "metadata": {},
   "outputs": [
    {
     "data": {
      "text/plain": [
       "[2, 3, 5, 7, 11, 13, 17, 19, 23, 29, 31, 37, 41, 43, 47, 53, 59, 61, 67, 71]"
      ]
     },
     "execution_count": 4,
     "metadata": {},
     "output_type": "execute_result"
    }
   ],
   "source": [
    "# define function\n",
    "def prime_numbers():\n",
    "    '''\n",
    "    Returns the first 20 prime numbers\n",
    "    '''\n",
    "    # create empty list\n",
    "    prime_numbers = []\n",
    "    # iterate through range from 2 to 100\n",
    "    for num in range(2,100):\n",
    "        # iterate through range from 2 to num\n",
    "        for i in range(2,num):\n",
    "            if num % i == 0:\n",
    "                break\n",
    "        else:\n",
    "            prime_numbers.append(num)\n",
    "            if len(prime_numbers) == 20:\n",
    "                break\n",
    "    return prime_numbers\n",
    "\n",
    "prime_numbers()    "
   ]
  },
  {
   "cell_type": "markdown",
   "id": "ef1c5863",
   "metadata": {},
   "source": [
    "#### Q5\n",
    "Define a function that takes a list of strings and print out the string and the length of the string.\n",
    "\n",
    "**Example of expected output**\n",
    "\n",
    "{\"Kofi\":4,\n",
    "\"Ama\":3,\n",
    "\"Sedem\":5}"
   ]
  },
  {
   "cell_type": "code",
   "execution_count": 5,
   "id": "90b87b67",
   "metadata": {},
   "outputs": [],
   "source": [
    "# define function\n",
    "def str_and_len(lst):\n",
    "    '''\n",
    "    Returns the strings in a list and their length\n",
    "    \n",
    "    lst: list\n",
    "    '''\n",
    "    # create empty dictionary\n",
    "    funct = {}\n",
    "    # iterate through elements in list\n",
    "    for i in lst:\n",
    "        # add elements and length to dictionary\n",
    "        funct.update({i:len(i)})\n",
    "    # return dictionary\n",
    "    return funct"
   ]
  },
  {
   "cell_type": "code",
   "execution_count": 6,
   "id": "375a9ed5",
   "metadata": {},
   "outputs": [
    {
     "data": {
      "text/plain": [
       "{'Kofi': 4, 'Ama': 3, 'samuel': 6}"
      ]
     },
     "execution_count": 6,
     "metadata": {},
     "output_type": "execute_result"
    }
   ],
   "source": [
    "string = ['Kofi', 'Ama', 'samuel']\n",
    "str_and_len(string)"
   ]
  },
  {
   "cell_type": "markdown",
   "id": "5072c8d8",
   "metadata": {},
   "source": [
    "### Q6\n",
    "Define a function that takes a list of strings and numbers and print out only the strings and the position of the strings.\n",
    "\n",
    "**Preamble**\n",
    "\n",
    "names = ['sedem', 'Kofi', 'kobla']\n",
    "\n",
    "**Expected Output**\n",
    "\n",
    "{'sedem': P0, 'Kofi': P1, 'kobla': P2}"
   ]
  },
  {
   "cell_type": "code",
   "execution_count": 16,
   "id": "a73ed003",
   "metadata": {},
   "outputs": [],
   "source": [
    "# define function\n",
    "def str_and_positions(lst):\n",
    "    '''\n",
    "    Gets the strings in a list and their positions\n",
    "    \n",
    "    INPUT:\n",
    "    lst: list of strings\n",
    "    \n",
    "    OUTPUT:\n",
    "    return: dictionary containing strings and their positions\n",
    "    '''\n",
    "    # create empty dictionary\n",
    "    funct = {}\n",
    "    # iterate through list\n",
    "    for post,string in enumerate(lst):\n",
    "        funct.update({string:f\"P{post}\"})\n",
    "    return funct"
   ]
  },
  {
   "cell_type": "code",
   "execution_count": 17,
   "id": "1bcdca2f",
   "metadata": {},
   "outputs": [
    {
     "data": {
      "text/plain": [
       "{'I': 'P0', 'love': 'P1', 'python': 'P2', 'programming': 'P3'}"
      ]
     },
     "execution_count": 17,
     "metadata": {},
     "output_type": "execute_result"
    }
   ],
   "source": [
    "strings = [\"I\" ,\"love\", \"python\", \"programming\"]\n",
    "str_and_positions(strings)"
   ]
  },
  {
   "cell_type": "markdown",
   "id": "5593b665",
   "metadata": {},
   "source": [
    "### Q7\n",
    "Define a function that returns whether the sum of a person age and person's date of birth equals 2023\n",
    "\n",
    "**Preamble**\n",
    "\n",
    "2001 + 22 => True\n",
    "\n",
    "2002 + 5 => False"
   ]
  },
  {
   "cell_type": "code",
   "execution_count": 18,
   "id": "14fa7eec",
   "metadata": {},
   "outputs": [
    {
     "name": "stdout",
     "output_type": "stream",
     "text": [
      "Enter your age: 54\n",
      "Enter your birth year: 1965\n",
      "2019 => False\n"
     ]
    }
   ],
   "source": [
    "# take age as input\n",
    "age = int(input(\"Enter your age: \"))\n",
    "# take birth year as input\n",
    "birth_year = int(input(\"Enter your birth year: \"))\n",
    "\n",
    "#define function\n",
    "def age_checker(age,year):\n",
    "    '''\n",
    "    Checks if a given age and birth year\n",
    "      add up to 2023\n",
    "    \n",
    "    INPUT:\n",
    "    age: age of user\n",
    "    year: birth year of user\n",
    "    \n",
    "    OUTPUT:\n",
    "    True or False depending on input'''\n",
    "    if age + year == 2023:\n",
    "        print(f\"{age + year} => True\")\n",
    "    else:\n",
    "        print(f\"{age + year} => False\")\n",
    "\n",
    "age_checker(age,birth_year)"
   ]
  },
  {
   "cell_type": "markdown",
   "id": "f831e652",
   "metadata": {},
   "source": [
    "### Q8\n",
    "Define a function that determine whether a particular year is a **decade**, the output should be a boolean (True or False)\n"
   ]
  },
  {
   "cell_type": "code",
   "execution_count": 19,
   "id": "7c2dc17e",
   "metadata": {},
   "outputs": [
    {
     "name": "stdout",
     "output_type": "stream",
     "text": [
      "Enter year: 2021\n",
      "False\n"
     ]
    }
   ],
   "source": [
    "# take year as input\n",
    "year = int(input(\"Enter year: \"))\n",
    "\n",
    "# define function\n",
    "def decade_checker(year):\n",
    "    '''\n",
    "    Checks if a given year is a decade year\n",
    "    \n",
    "    INPUT:\n",
    "    year: year\n",
    "    \n",
    "    OUTPUT:\n",
    "    True or False depending on input\n",
    "    '''\n",
    "    # check if year is a decade\n",
    "    if year % 10 == 0:\n",
    "        print(True)\n",
    "    else:\n",
    "        print(False)\n",
    "decade_checker(year)"
   ]
  },
  {
   "cell_type": "markdown",
   "id": "211c19e3",
   "metadata": {},
   "source": [
    "### Q9\n",
    "Define a function that contains a list of strings and punctuations,the output should on return the list of punctuations.\n"
   ]
  },
  {
   "cell_type": "code",
   "execution_count": 20,
   "id": "fed3f73d",
   "metadata": {},
   "outputs": [],
   "source": [
    "def punctuations(string):\n",
    "    '''\n",
    "    Checks punctuations in a string\n",
    "    \n",
    "    INPUT:\n",
    "    lst: string\n",
    "    \n",
    "    OUTPUT:\n",
    "    return: punctuations in string'''\n",
    "    puncts = []\n",
    "    for element in string:\n",
    "        if element.isalpha() or element == \" \":\n",
    "            continue\n",
    "        else:\n",
    "            puncts.append(element)\n",
    "    return puncts"
   ]
  },
  {
   "cell_type": "code",
   "execution_count": 21,
   "id": "147ecdb7",
   "metadata": {},
   "outputs": [
    {
     "data": {
      "text/plain": [
       "[',', ',', '.']"
      ]
     },
     "execution_count": 21,
     "metadata": {},
     "output_type": "execute_result"
    }
   ],
   "source": [
    "string = \"UsEFul Stuff, striNg, nO tROUbLE THeRe.\"\n",
    "punctuations(string)"
   ]
  },
  {
   "cell_type": "markdown",
   "id": "34bae9ec",
   "metadata": {},
   "source": [
    "### Q10\n",
    "\n",
    "Define a lambda function that print out the cubic root of a list of numbers"
   ]
  },
  {
   "cell_type": "code",
   "execution_count": 22,
   "id": "4df20136",
   "metadata": {},
   "outputs": [],
   "source": [
    "cube_roots = lambda x : x ** (1/3)"
   ]
  },
  {
   "cell_type": "code",
   "execution_count": 23,
   "id": "42e2e801",
   "metadata": {},
   "outputs": [
    {
     "data": {
      "text/plain": [
       "3.0"
      ]
     },
     "execution_count": 23,
     "metadata": {},
     "output_type": "execute_result"
    }
   ],
   "source": [
    "cube_roots(27)"
   ]
  },
  {
   "cell_type": "markdown",
   "id": "37974632",
   "metadata": {},
   "source": [
    "### Q11\n",
    "Define a lambda function that print out the cube of a list of numbers"
   ]
  },
  {
   "cell_type": "code",
   "execution_count": 24,
   "id": "1b4430cb",
   "metadata": {},
   "outputs": [],
   "source": [
    "cubes = lambda lst: [x ** 3 for x in lst]"
   ]
  },
  {
   "cell_type": "code",
   "execution_count": 25,
   "id": "f58a2a5e",
   "metadata": {},
   "outputs": [
    {
     "data": {
      "text/plain": [
       "[8, 27, 64]"
      ]
     },
     "execution_count": 25,
     "metadata": {},
     "output_type": "execute_result"
    }
   ],
   "source": [
    "lst = [2,3,4]\n",
    "cubes(lst)"
   ]
  },
  {
   "cell_type": "markdown",
   "id": "b1522dbb",
   "metadata": {},
   "source": [
    "### Q12\n",
    "Define a function that take a list of list of numbers and return a list that contains the average of each sublist using map."
   ]
  },
  {
   "cell_type": "code",
   "execution_count": 26,
   "id": "745ba195",
   "metadata": {},
   "outputs": [],
   "source": [
    "def sublist_avgs(lst):\n",
    "    '''\n",
    "    Calcualtes the average of each sublist in a list\n",
    "    \n",
    "    INPUT:\n",
    "    lst: list of sublists of numbers\n",
    "    \n",
    "    OUTPUT:\n",
    "    return: list of averages\n",
    "    '''\n",
    "    result = []\n",
    "    for sublist in lst:\n",
    "        avg = sum(sublist)/len(sublist)\n",
    "        result.append(avg)\n",
    "    return result"
   ]
  },
  {
   "cell_type": "code",
   "execution_count": 27,
   "id": "eb05ca6f",
   "metadata": {},
   "outputs": [
    {
     "data": {
      "text/plain": [
       "[3.0, 6.0, 9.0]"
      ]
     },
     "execution_count": 27,
     "metadata": {},
     "output_type": "execute_result"
    }
   ],
   "source": [
    "lst = [[2,3,4],[5,6,7],[8,9,10]]\n",
    "sublist_avgs(lst)"
   ]
  },
  {
   "cell_type": "markdown",
   "id": "0fd5cd06",
   "metadata": {},
   "source": [
    "### Q13\n",
    "Define a function that takes a list of strings and filter out strings that are upper case."
   ]
  },
  {
   "cell_type": "code",
   "execution_count": 28,
   "id": "53d04fb5",
   "metadata": {},
   "outputs": [],
   "source": [
    "def uppercase_checker(lst):\n",
    "    '''\n",
    "    Checks for uppercase strings in a list\n",
    "    \n",
    "    INPUT:\n",
    "    lst: list of strings\n",
    "    \n",
    "    OUPUT:\n",
    "    return: list containing uppercase strings'''\n",
    "    uppercase_strings = []\n",
    "    for string in lst:\n",
    "        if string.isupper():\n",
    "            uppercase_strings.append(string)\n",
    "    return uppercase_strings"
   ]
  },
  {
   "cell_type": "code",
   "execution_count": 29,
   "id": "372731c1",
   "metadata": {},
   "outputs": [
    {
     "data": {
      "text/plain": [
       "['ACADEMY', 'KWABENYA']"
      ]
     },
     "execution_count": 29,
     "metadata": {},
     "output_type": "execute_result"
    }
   ],
   "source": [
    "strings = ['Blossom','ACADEMY','KWABENYA','Accra']\n",
    "uppercase_checker(strings)"
   ]
  },
  {
   "cell_type": "markdown",
   "id": "d0dddd17",
   "metadata": {},
   "source": [
    "### Q14\n",
    "Define a function that takes a list of numbers and print out the numbers which are prime in the list."
   ]
  },
  {
   "cell_type": "code",
   "execution_count": 30,
   "id": "c706c6dd",
   "metadata": {},
   "outputs": [],
   "source": [
    "def prime_checker(lst):\n",
    "    '''\n",
    "    Checks if a number is a prime number\n",
    "    \n",
    "    INPUT:\n",
    "    lst: list of numbers\n",
    "    \n",
    "    OUTPUT:\n",
    "    return: list of prime numbers from initial list'''\n",
    "    prime_list = []\n",
    "    for num in lst:\n",
    "        # iterate through range from 2 to num\n",
    "        for i in range(2,num):\n",
    "            if num % i == 0:\n",
    "                break\n",
    "        else:\n",
    "            prime_list.append(num)\n",
    "    return prime_list"
   ]
  },
  {
   "cell_type": "code",
   "execution_count": 31,
   "id": "7ec89a6d",
   "metadata": {},
   "outputs": [
    {
     "data": {
      "text/plain": [
       "[1, 2, 3, 5, 7]"
      ]
     },
     "execution_count": 31,
     "metadata": {},
     "output_type": "execute_result"
    }
   ],
   "source": [
    "numbers = list(range(1,10))\n",
    "prime_checker(numbers)"
   ]
  },
  {
   "cell_type": "markdown",
   "id": "240741dc",
   "metadata": {},
   "source": [
    "### Q15\n",
    "Define a function that take a list of strings and return a zip of each string and length of a string."
   ]
  },
  {
   "cell_type": "code",
   "execution_count": 32,
   "id": "1953fa5c",
   "metadata": {},
   "outputs": [
    {
     "name": "stdout",
     "output_type": "stream",
     "text": [
      "('I', 1)\n",
      "('Am', 2)\n",
      "('Using', 5)\n",
      "('Python', 6)\n",
      "('Programming', 11)\n",
      "('Language', 8)\n"
     ]
    }
   ],
   "source": [
    "def string_count_zipper(lst):\n",
    "    '''\n",
    "    Zips a string and its length\n",
    "    '''\n",
    "    zipped =  zip(lst,map(len,lst))\n",
    "    for zips in zipped:\n",
    "        print(zips)\n",
    "strings = [\"I\", \"Am\", \"Using\", \"Python\", \"Programming\", \"Language\"]\n",
    "string_count_zipper(strings)"
   ]
  },
  {
   "cell_type": "markdown",
   "id": "44a1339f",
   "metadata": {},
   "source": [
    "### Q16\n",
    "Define a function that takes in a number and return the first 12 multiples of the the number.\n",
    "\n",
    "Expected Output\n",
    "\n",
    "2 X 1 = 2\n",
    "\n",
    "to\n",
    "\n",
    "2 X 12 = 24"
   ]
  },
  {
   "cell_type": "code",
   "execution_count": 33,
   "id": "eee9606e",
   "metadata": {},
   "outputs": [],
   "source": [
    "def multiples(number):\n",
    "    '''\n",
    "    Returns first 12 multiples of a number\n",
    "    \n",
    "    INPUT:\n",
    "    number: integer'''\n",
    "    for num in range(1,13):\n",
    "        print(f\"{number} x {num} = {number*num}\")"
   ]
  },
  {
   "cell_type": "code",
   "execution_count": 34,
   "id": "79c73287",
   "metadata": {},
   "outputs": [
    {
     "name": "stdout",
     "output_type": "stream",
     "text": [
      "12 x 1 = 12\n",
      "12 x 2 = 24\n",
      "12 x 3 = 36\n",
      "12 x 4 = 48\n",
      "12 x 5 = 60\n",
      "12 x 6 = 72\n",
      "12 x 7 = 84\n",
      "12 x 8 = 96\n",
      "12 x 9 = 108\n",
      "12 x 10 = 120\n",
      "12 x 11 = 132\n",
      "12 x 12 = 144\n"
     ]
    }
   ],
   "source": [
    "multiples(12)"
   ]
  },
  {
   "cell_type": "markdown",
   "id": "cd63dd99",
   "metadata": {},
   "source": [
    "### Q17\n",
    "Write a Python function to find the maximum of three numbers.\n",
    "\n",
    "**Do not use the max function**"
   ]
  },
  {
   "cell_type": "code",
   "execution_count": 1,
   "id": "d564b95a",
   "metadata": {},
   "outputs": [],
   "source": [
    "def max_finder(a,b,c):\n",
    "    '''\n",
    "    Checks maximum number between 3 numbers\n",
    "    \n",
    "    INPUT:\n",
    "    a: number\n",
    "    b: number\n",
    "    c: number\n",
    "    \n",
    "    OUTPUT:\n",
    "    return: string indicating maximum number'''\n",
    "    if a >= b and a >= c:\n",
    "        return f\"{a} is the maximum\"\n",
    "    elif b >= a and b >= c:\n",
    "        return f\"{b} is the maximum\"\n",
    "    else:\n",
    "        return f\"{c} is the maximum\""
   ]
  },
  {
   "cell_type": "code",
   "execution_count": 2,
   "id": "c7a8bfc2",
   "metadata": {},
   "outputs": [
    {
     "data": {
      "text/plain": [
       "'35 is the maximum'"
      ]
     },
     "execution_count": 2,
     "metadata": {},
     "output_type": "execute_result"
    }
   ],
   "source": [
    "max_finder(20,30,35)"
   ]
  },
  {
   "cell_type": "markdown",
   "id": "67520c0b",
   "metadata": {},
   "source": [
    "### Q18\n",
    "Write a Python function to multiply all the numbers in a list."
   ]
  },
  {
   "cell_type": "code",
   "execution_count": 36,
   "id": "88a0c9a1",
   "metadata": {},
   "outputs": [],
   "source": [
    "def list_multiplier(lst):\n",
    "    '''\n",
    "    Multiplies the numbers in a list\n",
    "    \n",
    "    INPUT:\n",
    "    lst: list containing numbers\n",
    "    \n",
    "    OUTPUT:\n",
    "    return: result of operation'''\n",
    "    var = 1\n",
    "    for number in lst:\n",
    "        var *= number\n",
    "    return var"
   ]
  },
  {
   "cell_type": "code",
   "execution_count": 37,
   "id": "a2fe6707",
   "metadata": {},
   "outputs": [
    {
     "data": {
      "text/plain": [
       "24"
      ]
     },
     "execution_count": 37,
     "metadata": {},
     "output_type": "execute_result"
    }
   ],
   "source": [
    "numbers = [2,3,4]\n",
    "list_multiplier(numbers)"
   ]
  },
  {
   "cell_type": "markdown",
   "id": "05891582",
   "metadata": {},
   "source": [
    "### Q19\n",
    "Write a Python program to reverse a string"
   ]
  },
  {
   "cell_type": "code",
   "execution_count": 3,
   "id": "8a16bdd4",
   "metadata": {},
   "outputs": [],
   "source": [
    "def string_reverser(string):\n",
    "    '''\n",
    "    Reverses string\n",
    "    \n",
    "    INPUT:\n",
    "    string: string\n",
    "    \n",
    "    OUTPUT:\n",
    "    return: reversed string\n",
    "    '''\n",
    "    word_length = len(string)\n",
    "    reversed = \"\"\n",
    "    for i in range(len(string)):\n",
    "        reversed += string[word_length -1]\n",
    "        word_length -= 1\n",
    "    return reversed"
   ]
  },
  {
   "cell_type": "code",
   "execution_count": 39,
   "id": "3ff7df44",
   "metadata": {},
   "outputs": [
    {
     "data": {
      "text/plain": [
       "'mossolB'"
      ]
     },
     "execution_count": 39,
     "metadata": {},
     "output_type": "execute_result"
    }
   ],
   "source": [
    "string_reverser(\"Blossom\")"
   ]
  },
  {
   "cell_type": "markdown",
   "id": "b9025ac8",
   "metadata": {},
   "source": [
    "### Q20\n",
    "Write a python function to return the length of a string."
   ]
  },
  {
   "cell_type": "code",
   "execution_count": 40,
   "id": "364aa088",
   "metadata": {},
   "outputs": [],
   "source": [
    "def str_length(string):\n",
    "    '''\n",
    "    Returns the length of a string\n",
    "    \n",
    "    INPUT:\n",
    "    string: string\n",
    "    \n",
    "    OUTPUT:\n",
    "    return: length of string'''\n",
    "    return len(string)"
   ]
  },
  {
   "cell_type": "code",
   "execution_count": 41,
   "id": "618b99a2",
   "metadata": {},
   "outputs": [
    {
     "data": {
      "text/plain": [
       "7"
      ]
     },
     "execution_count": 41,
     "metadata": {},
     "output_type": "execute_result"
    }
   ],
   "source": [
    "str_length(\"Blossom\")"
   ]
  },
  {
   "cell_type": "markdown",
   "id": "8d1ee176",
   "metadata": {},
   "source": [
    "Have a lovely coding weekend"
   ]
  }
 ],
 "metadata": {
  "kernelspec": {
   "display_name": "Python 3 (ipykernel)",
   "language": "python",
   "name": "python3"
  },
  "language_info": {
   "codemirror_mode": {
    "name": "ipython",
    "version": 3
   },
   "file_extension": ".py",
   "mimetype": "text/x-python",
   "name": "python",
   "nbconvert_exporter": "python",
   "pygments_lexer": "ipython3",
   "version": "3.9.12"
  }
 },
 "nbformat": 4,
 "nbformat_minor": 5
}
