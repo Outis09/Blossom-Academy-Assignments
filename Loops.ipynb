{
 "cells": [
  {
   "cell_type": "markdown",
   "id": "c981861e",
   "metadata": {},
   "source": [
    "# Q1\n",
    "Write a code to display a list of the first 12 multiples of 8 using a for loop\n"
   ]
  },
  {
   "cell_type": "code",
   "execution_count": 1,
   "id": "a37a503d",
   "metadata": {},
   "outputs": [
    {
     "data": {
      "text/plain": [
       "[8, 16, 24, 32, 40, 48, 56, 64, 72, 80, 88, 96]"
      ]
     },
     "execution_count": 1,
     "metadata": {},
     "output_type": "execute_result"
    }
   ],
   "source": [
    "# create empty list\n",
    "mul_8 = []\n",
    "\n",
    "# iterate through numbers from 1 to 12\n",
    "for num in range(1,13):\n",
    "    # multiply each number by 8\n",
    "    mul = num * 8\n",
    "    # append number to list\n",
    "    mul_8. append(mul)\n",
    "\n",
    "# display list\n",
    "mul_8"
   ]
  },
  {
   "cell_type": "markdown",
   "id": "d9f7d0f9",
   "metadata": {},
   "source": [
    "# Q2\n",
    "Write the code to print sum of all even numbers from 1 to 201"
   ]
  },
  {
   "cell_type": "code",
   "execution_count": 2,
   "id": "7b455605",
   "metadata": {},
   "outputs": [
    {
     "data": {
      "text/plain": [
       "10100"
      ]
     },
     "execution_count": 2,
     "metadata": {},
     "output_type": "execute_result"
    }
   ],
   "source": [
    "# set sum_even variable to zero\n",
    "sum_even = 0\n",
    "\n",
    "# iterate through range\n",
    "for even_num in range(0,201,2):\n",
    "    # add numbers to sum_even\n",
    "    sum_even += even_num\n",
    "\n",
    "# display sum_even    \n",
    "sum_even"
   ]
  },
  {
   "cell_type": "markdown",
   "id": "4f0f12d7",
   "metadata": {},
   "source": [
    "# Q3\n",
    "`my_list = [3, 5, 7, 12, 41]`\n",
    "\n",
    "Write the code to display the list of the squares of each number in my list\n",
    "\n",
    "- Without using list comprehension\n",
    "- Using list comprehension\n"
   ]
  },
  {
   "cell_type": "markdown",
   "id": "85818d9d",
   "metadata": {},
   "source": [
    "Using for loop"
   ]
  },
  {
   "cell_type": "code",
   "execution_count": 3,
   "id": "8ea28ab7",
   "metadata": {},
   "outputs": [
    {
     "data": {
      "text/plain": [
       "[9, 25, 49, 144, 1681]"
      ]
     },
     "execution_count": 3,
     "metadata": {},
     "output_type": "execute_result"
    }
   ],
   "source": [
    "# create list\n",
    "my_list = [3, 5, 7, 12, 41]\n",
    "# create empty list\n",
    "squares = []\n",
    "# iterate through list\n",
    "for num in my_list:\n",
    "    # get the square of each number\n",
    "    square = num ** 2\n",
    "    # add result to empty list\n",
    "    squares.append(square)\n",
    "# display list of squares    \n",
    "squares"
   ]
  },
  {
   "cell_type": "markdown",
   "id": "ebb5f74d",
   "metadata": {},
   "source": [
    "Using list comprehension"
   ]
  },
  {
   "cell_type": "code",
   "execution_count": 4,
   "id": "faaebde4",
   "metadata": {},
   "outputs": [
    {
     "data": {
      "text/plain": [
       "[9, 25, 49, 144, 1681]"
      ]
     },
     "execution_count": 4,
     "metadata": {},
     "output_type": "execute_result"
    }
   ],
   "source": [
    "squares = [num**2 for num in my_list]\n",
    "squares"
   ]
  },
  {
   "cell_type": "markdown",
   "id": "28bed149",
   "metadata": {},
   "source": [
    "# Q4\n",
    "`my_list1 = [3, 53,47, 22, 53, 78, 12, 41]`\n",
    "\n",
    "Calculate the average of my_list1\n",
    "\n",
    "- Without using sum and len fucnctions\n",
    "- Using sum and len functions\n"
   ]
  },
  {
   "cell_type": "markdown",
   "id": "5215c895",
   "metadata": {},
   "source": [
    "Using for loop"
   ]
  },
  {
   "cell_type": "code",
   "execution_count": 5,
   "id": "8c65d110",
   "metadata": {},
   "outputs": [
    {
     "data": {
      "text/plain": [
       "38.625"
      ]
     },
     "execution_count": 5,
     "metadata": {},
     "output_type": "execute_result"
    }
   ],
   "source": [
    "# create list\n",
    "my_list1 = [3, 53,47, 22, 53, 78, 12, 41]\n",
    "\n",
    "# set total to zero\n",
    "total = 0\n",
    "# set count to zero\n",
    "count = 0\n",
    "\n",
    "# iterate through list\n",
    "for num in my_list1:\n",
    "    # add number to total\n",
    "    total += num\n",
    "    # increment count by 1\n",
    "    count += 1\n",
    "\n",
    "# divide total by count\n",
    "average = total/count\n",
    "average"
   ]
  },
  {
   "cell_type": "markdown",
   "id": "b31a04e9",
   "metadata": {},
   "source": [
    "Using sum() and len() functions"
   ]
  },
  {
   "cell_type": "code",
   "execution_count": 6,
   "id": "a8e310f1",
   "metadata": {},
   "outputs": [
    {
     "data": {
      "text/plain": [
       "38.625"
      ]
     },
     "execution_count": 6,
     "metadata": {},
     "output_type": "execute_result"
    }
   ],
   "source": [
    "average =  sum(my_list1)/len(my_list1)\n",
    "average"
   ]
  },
  {
   "cell_type": "markdown",
   "id": "38c1ddff",
   "metadata": {},
   "source": [
    "# Q5\n",
    "\n",
    "Write a Python program to guess a number between 1 and 9.\n",
    "User is prompted to enter a guess. If the user guesses wrong then the prompt appears again until the guess is correct, on successful guess, user will get a \"Well guessed!\" message, and the program will exit."
   ]
  },
  {
   "cell_type": "code",
   "execution_count": 7,
   "id": "f437d461",
   "metadata": {},
   "outputs": [
    {
     "name": "stdout",
     "output_type": "stream",
     "text": [
      "You have 3 tries\n",
      "Guess a number between 1 and 9: 6\n",
      "Try again!!!\n",
      "You have 2 tries\n",
      "Guess a number between 1 and 9: 7\n",
      "Try again!!!\n",
      "You have 1 tries\n",
      "Guess a number between 1 and 9: 5\n",
      "Well guessed!\n"
     ]
    }
   ],
   "source": [
    "# number to be guessed\n",
    "number = 5\n",
    "# number of tries user has\n",
    "tries = 3\n",
    "\n",
    "# while loop to check number of tries\n",
    "while tries >= 1:\n",
    "    # tell user number of tries\n",
    "    print(f\"You have {tries} tries\")\n",
    "    # take input from user\n",
    "    guess = int(input(\"Guess a number between 1 and 9: \"))\n",
    "    # check if input is same as number\n",
    "    if guess != number:\n",
    "        # check if number of tries is 1\n",
    "        if tries == 1:\n",
    "            print(\"Your guesses were wrong!\")\n",
    "        else:\n",
    "            print(\"Try again!!!\")\n",
    "    else:\n",
    "        print(\"Well guessed!\")\n",
    "        break\n",
    "    # subtract 1 from tries\n",
    "    tries -= 1"
   ]
  },
  {
   "cell_type": "markdown",
   "id": "f5c02baa",
   "metadata": {},
   "source": [
    "# Q6\n",
    "Write a Python program to construct the following pattern.\n",
    "\n",
    "`*` \n",
    "\n",
    "`* *` \n",
    "\n",
    "`* * *` \n",
    "\n",
    "`* * * *` \n",
    "\n",
    "`* * * * *`"
   ]
  },
  {
   "cell_type": "code",
   "execution_count": 8,
   "id": "016131e6",
   "metadata": {},
   "outputs": [
    {
     "name": "stdout",
     "output_type": "stream",
     "text": [
      "*\n",
      "**\n",
      "***\n",
      "****\n",
      "*****\n"
     ]
    }
   ],
   "source": [
    "# iterate through numbers from 1 to 6\n",
    "for num in range(1,6):\n",
    "    # multiply asterisk by number\n",
    "    pattern = \"*\" * num\n",
    "    # print result\n",
    "    print(pattern)"
   ]
  },
  {
   "cell_type": "markdown",
   "id": "e85d94df",
   "metadata": {},
   "source": [
    "# Q7\n",
    "\n",
    "Write a Python program that accepts a word from the user and reverses it."
   ]
  },
  {
   "cell_type": "code",
   "execution_count": 12,
   "id": "b4ad10d5",
   "metadata": {},
   "outputs": [
    {
     "name": "stdout",
     "output_type": "stream",
     "text": [
      "Input word: blossom\n"
     ]
    },
    {
     "data": {
      "text/plain": [
       "'mossolb'"
      ]
     },
     "execution_count": 12,
     "metadata": {},
     "output_type": "execute_result"
    }
   ],
   "source": [
    "# take input from user\n",
    "user = input(\"Input word: \")\n",
    "# get length of user input\n",
    "word_length = len(user)\n",
    "#create empty string\n",
    "reversed = \"\"\n",
    "# iterate through numbers between 0 and length of string\n",
    "for i in range(len(user)):\n",
    "    # add element to empty sring\n",
    "    reversed += user[word_length -1]\n",
    "    # decrease word length by 1\n",
    "    word_length -= 1\n",
    "reversed\n"
   ]
  },
  {
   "cell_type": "markdown",
   "id": "5a99d4b3",
   "metadata": {},
   "source": [
    "# Q8\n",
    "\n",
    "`lst = [3,4,5,4,7,8,5,8,3,6,8,9,11]`\n",
    "\n",
    "Write a Python program to count the number of even and odd numbers in the above list of numbers.\n",
    "\n",
    "**Expected output should be in this format**\n",
    "\n",
    "{\"Even\" : num_of_even, \"Odd\": num_of_odd}"
   ]
  },
  {
   "cell_type": "code",
   "execution_count": 9,
   "id": "43d3748d",
   "metadata": {},
   "outputs": [
    {
     "name": "stdout",
     "output_type": "stream",
     "text": [
      "Even: 6, Odd: 7\n"
     ]
    }
   ],
   "source": [
    "# create list\n",
    "lst = [3,4,5,4,7,8,5,8,3,6,8,9,11]\n",
    "# create variables and assign zero\n",
    "num_of_even = 0\n",
    "num_of_odd = 0\n",
    "# iterate through numbers in list\n",
    "for num in lst:\n",
    "    # check if number is even\n",
    "    if num % 2 == 0:\n",
    "        # increment num_of_even by 1\n",
    "        num_of_even += 1\n",
    "    # else number is odd\n",
    "    else:\n",
    "        # increment num_of_odd by 1\n",
    "        num_of_odd +=1\n",
    "\n",
    "print(f\"Even: {num_of_even}, Odd: {num_of_odd}\")"
   ]
  },
  {
   "cell_type": "markdown",
   "id": "c92b54f9",
   "metadata": {},
   "source": [
    "# Q9\n",
    " Write a Python program that iterates the integers from 1 to 50. For multiples of three print \"Fizz\" instead of the number and for multiples of five print \"Buzz\". For numbers that are multiples of three and five, print \"FizzBuzz\".\n",
    "Sample Output :\n",
    "1\n",
    "\n",
    "2\n",
    "\n",
    "fizz\n",
    "\n",
    "4\n",
    "\n",
    "buzz"
   ]
  },
  {
   "cell_type": "code",
   "execution_count": 10,
   "id": "24bb5084",
   "metadata": {},
   "outputs": [
    {
     "name": "stdout",
     "output_type": "stream",
     "text": [
      "1\n",
      "2\n",
      "Fizz\n",
      "4\n",
      "Buzz\n",
      "Fizz\n",
      "7\n",
      "8\n",
      "Fizz\n",
      "Buzz\n",
      "11\n",
      "Fizz\n",
      "13\n",
      "14\n",
      "FizzBuzz\n",
      "16\n",
      "17\n",
      "Fizz\n",
      "19\n",
      "Buzz\n",
      "Fizz\n",
      "22\n",
      "23\n",
      "Fizz\n",
      "Buzz\n",
      "26\n",
      "Fizz\n",
      "28\n",
      "29\n",
      "FizzBuzz\n",
      "31\n",
      "32\n",
      "Fizz\n",
      "34\n",
      "Buzz\n",
      "Fizz\n",
      "37\n",
      "38\n",
      "Fizz\n",
      "Buzz\n",
      "41\n",
      "Fizz\n",
      "43\n",
      "44\n",
      "FizzBuzz\n",
      "46\n",
      "47\n",
      "Fizz\n",
      "49\n",
      "Buzz\n"
     ]
    }
   ],
   "source": [
    "# iterate through numbers from 1 to 51\n",
    "for num in range(1,51):\n",
    "    # check if number is a multiple of 15\n",
    "    if num % 15 == 0:\n",
    "        print(\"FizzBuzz\")\n",
    "    # check if number is a multiple of 5\n",
    "    elif num % 5 == 0:\n",
    "        print(\"Buzz\")\n",
    "    # check if number is a multiple of 3\n",
    "    elif num % 3 == 0:\n",
    "        print(\"Fizz\")\n",
    "    # else return number\n",
    "    else:\n",
    "        print(num)"
   ]
  },
  {
   "cell_type": "markdown",
   "id": "8d3505cf",
   "metadata": {},
   "source": [
    "# Q10\n",
    " Write a Python program to find the median of three values inputs from the user"
   ]
  },
  {
   "cell_type": "code",
   "execution_count": 11,
   "id": "c3ebd033",
   "metadata": {},
   "outputs": [
    {
     "name": "stdout",
     "output_type": "stream",
     "text": [
      "Input first number: 4\n",
      "Input second number: 5\n",
      "Input third number: 6\n",
      "Median is: 5\n"
     ]
    }
   ],
   "source": [
    "# take 3 integer inputs\n",
    "first = int(input(\"Input first number: \"))\n",
    "second = int(input(\"Input second number: \"))\n",
    "third = int(input(\"Input third number: \"))\n",
    "# check if second number is median\n",
    "if (first > second > third) or (third > second > first):\n",
    "    print(f\"Median is: {second}\")\n",
    "# check if first number is median\n",
    "elif (second > first > third) or (third > first > second):\n",
    "    print(f\"Median is {first}\")\n",
    "# else median is third number\n",
    "else:\n",
    "     print(f\"Median is: {third}\")"
   ]
  },
  {
   "cell_type": "markdown",
   "id": "9ef4f8a2",
   "metadata": {},
   "source": [
    "# Q11\n",
    "Write a Python program to calculate the sum and average of n integer numbers (input from the user). Input 0 to finish."
   ]
  },
  {
   "cell_type": "code",
   "execution_count": 12,
   "id": "50947b0e",
   "metadata": {},
   "outputs": [
    {
     "name": "stdout",
     "output_type": "stream",
     "text": [
      "How many numbers do you want to sum and calculate average?: 4\n",
      "Input number: 12\n",
      "Input number: 34\n",
      "Input number: 56\n",
      "Input number: 78\n",
      "The sum of your numbers is: 180\n",
      "The average of numbers is: 45.0\n"
     ]
    }
   ],
   "source": [
    "# take integer input\n",
    "num_count = int(input(\"How many numbers do you want to sum and calculate average?: \"))\n",
    "# create empty list\n",
    "list_num = []\n",
    "# create variable and assign to 1\n",
    "inputs = 1\n",
    "# loop \n",
    "while inputs <= num_count:\n",
    "    number = int(input(\"Input number: \"))\n",
    "    list_num.append(number)\n",
    "    inputs += 1\n",
    "\n",
    "total = sum(list_num)\n",
    "print(f\"The sum of your numbers is: {total}\")\n",
    "average = sum(list_num)/num_count\n",
    "print(f\"The average of numbers is: {average}\")"
   ]
  },
  {
   "cell_type": "markdown",
   "id": "45f5c335",
   "metadata": {},
   "source": [
    "# Q12\n",
    " Write a Python program to create the multiplication table (from 1 to 12) of a number input from a user.\n",
    " \n",
    " Expected Output:\n",
    "\n",
    "Input a number: 6                                                       \n",
    "6 x 1 = 6                                                               \n",
    "6 x 2 = 12                                                              \n",
    "6 x 3 = 18                                                              \n",
    "6 x 4 = 24                                                              \n",
    "6 x 5 = 30                                                              \n",
    "6 x 6 = 36                                                              \n",
    "6 x 7 = 42                                                              \n",
    "6 x 8 = 48                                                              \n",
    "6 x 9 = 54                                                              \n",
    "6 x 10 = 60 \n",
    "\n",
    "6 x 11 = 66\n",
    "\n",
    "6 x 12 = 72"
   ]
  },
  {
   "cell_type": "code",
   "execution_count": 13,
   "id": "a2af8e7e",
   "metadata": {},
   "outputs": [
    {
     "name": "stdout",
     "output_type": "stream",
     "text": [
      "input number: 5\n",
      "5 x 1 = 5\n",
      "5 x 2 = 10\n",
      "5 x 3 = 15\n",
      "5 x 4 = 20\n",
      "5 x 5 = 25\n",
      "5 x 6 = 30\n",
      "5 x 7 = 35\n",
      "5 x 8 = 40\n",
      "5 x 9 = 45\n",
      "5 x 10 = 50\n",
      "5 x 11 = 55\n",
      "5 x 12 = 60\n"
     ]
    }
   ],
   "source": [
    "# take input, convert to int\n",
    "number = int(input(\"input number: \"))\n",
    "\n",
    "# iterate through numbers from 1 to 13\n",
    "for i in range(1,13):\n",
    "    # print result of each iteration times inputted number\n",
    "    print(f\"{number} x {i} = {number * i}\")"
   ]
  },
  {
   "cell_type": "markdown",
   "id": "8cc97048",
   "metadata": {},
   "source": [
    "# Q13\n",
    "Write a Python program to construct the following pattern\n",
    "\n",
    "1\n",
    "\n",
    "22\n",
    "\n",
    "333\n",
    "\n",
    "4444\n",
    "\n",
    "55555\n",
    "\n",
    "666666\n",
    "\n",
    "7777777\n",
    "\n",
    "88888888\n",
    "\n",
    "999999999"
   ]
  },
  {
   "cell_type": "code",
   "execution_count": 14,
   "id": "14a99652",
   "metadata": {},
   "outputs": [
    {
     "name": "stdout",
     "output_type": "stream",
     "text": [
      "1\n",
      "22\n",
      "333\n",
      "4444\n",
      "55555\n",
      "666666\n",
      "7777777\n",
      "88888888\n",
      "999999999\n"
     ]
    }
   ],
   "source": [
    "# iterate through numbers from 1 to 10\n",
    "for i in range(1,10):\n",
    "    # display each number its number of times\n",
    "    print(str(i) * i)"
   ]
  },
  {
   "cell_type": "markdown",
   "id": "adef967a",
   "metadata": {},
   "source": [
    "# Q14\n",
    "Print sum of all odd numbers from 10 to 50"
   ]
  },
  {
   "cell_type": "code",
   "execution_count": 2,
   "id": "3ca88206",
   "metadata": {},
   "outputs": [
    {
     "data": {
      "text/plain": [
       "600"
      ]
     },
     "execution_count": 2,
     "metadata": {},
     "output_type": "execute_result"
    }
   ],
   "source": [
    "# create variable and set to zero\n",
    "sum_odd = 0\n",
    "# iterate through numbers from 10 to 50\n",
    "for number in range(10,50):\n",
    "    # check if number is off\n",
    "    if number % 2 != 0:\n",
    "        # if odd, add to sum_odd\n",
    "        sum_odd += number\n",
    "\n",
    "sum_odd"
   ]
  },
  {
   "cell_type": "markdown",
   "id": "1642ec1a",
   "metadata": {},
   "source": [
    "# Q15\n",
    "\n",
    "`my_list = [25, 100, 121, 400, 81]`\n",
    "\n",
    "Write the code to display the list of the square root of each number in my list\n",
    "\n",
    "- Without using list comprehension\n",
    "- Using list comprehension"
   ]
  },
  {
   "cell_type": "code",
   "execution_count": 1,
   "id": "be3f0615",
   "metadata": {},
   "outputs": [
    {
     "data": {
      "text/plain": [
       "[5, 10, 11, 20, 9]"
      ]
     },
     "execution_count": 1,
     "metadata": {},
     "output_type": "execute_result"
    }
   ],
   "source": [
    "# create list\n",
    "my_list = [25, 100, 121, 400, 81]\n",
    "\n",
    "# create empty list\n",
    "square_roots = []\n",
    "# iterate numbers in list\n",
    "for num in my_list:\n",
    "    # get square root of each number \n",
    "    square_root = num ** 0.5\n",
    "    # add result to empty list\n",
    "    square_roots.append(int(square_root))\n",
    "\n",
    "square_roots"
   ]
  }
 ],
 "metadata": {
  "kernelspec": {
   "display_name": "Python 3 (ipykernel)",
   "language": "python",
   "name": "python3"
  },
  "language_info": {
   "codemirror_mode": {
    "name": "ipython",
    "version": 3
   },
   "file_extension": ".py",
   "mimetype": "text/x-python",
   "name": "python",
   "nbconvert_exporter": "python",
   "pygments_lexer": "ipython3",
   "version": "3.9.12"
  }
 },
 "nbformat": 4,
 "nbformat_minor": 5
}
