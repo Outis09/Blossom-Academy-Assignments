{
 "cells": [
  {
   "cell_type": "markdown",
   "id": "3c2e90df",
   "metadata": {},
   "source": [
    "### Q1\n",
    "\n",
    "Name the four built-in data structures in python. Give one examples for each"
   ]
  },
  {
   "cell_type": "markdown",
   "id": "9974dacd",
   "metadata": {},
   "source": [
    "- lists\n",
    "- sets\n",
    "- dictionaries\n",
    "- tuples"
   ]
  },
  {
   "cell_type": "code",
   "execution_count": 1,
   "id": "cecf0871",
   "metadata": {},
   "outputs": [
    {
     "name": "stdout",
     "output_type": "stream",
     "text": [
      "<class 'list'>\n",
      "<class 'set'>\n",
      "<class 'dict'>\n",
      "<class 'tuple'>\n"
     ]
    }
   ],
   "source": [
    "# create empty list\n",
    "emptyList = []\n",
    "# print type of emptyList\n",
    "print(type(emptyList))\n",
    "\n",
    "# create set\n",
    "first_set = {2,3,4,5}\n",
    "# print of first_set\n",
    "print(type(first_set))\n",
    "\n",
    "# create dictionary\n",
    "first_dict = {\"name\": \"Samuel\",\n",
    "              \"age\": \"unknown\",\n",
    "              \"gender\": \"male\"}\n",
    "# print tpe of first_dict\n",
    "print(type(first_dict))\n",
    "\n",
    "# create tuple\n",
    "tup_one = (1,2,3,4,5)\n",
    "# print type of tup_one\n",
    "print(type(tup_one))"
   ]
  },
  {
   "cell_type": "markdown",
   "id": "b6e1dd1b",
   "metadata": {},
   "source": [
    "### Q2\n",
    "\n",
    "State two differences between a list and a tuple in Python."
   ]
  },
  {
   "cell_type": "markdown",
   "id": "f3f134c2",
   "metadata": {},
   "source": [
    "* Lists are mutable while tuples are immutable\n",
    "* Lists are defined with square brackets while tuples are defined with parentheses"
   ]
  },
  {
   "cell_type": "markdown",
   "id": "815b4e67",
   "metadata": {},
   "source": [
    "### Q3\n",
    "Make a list containing names of five animals with a variable name `animal_list`\n",
    "\n",
    "Write a code for the following:\n",
    "- Print the first two animals\n",
    "- Print the last two animals\n",
    "- Add three extra animals to the variable `animal_list`\n",
    "- Remove the first two animals from the variable `animal_list`\n",
    "- How many animals are in the `animal_list`?\n",
    "- Create a variable animal_set which stores the set of animal_list \n",
    "- How many elements are in the animal_set?\n"
   ]
  },
  {
   "cell_type": "code",
   "execution_count": 2,
   "id": "9dfdc08b",
   "metadata": {},
   "outputs": [],
   "source": [
    "# create list containing animals\n",
    "animal_list = [\"cat\", \"horse\", \"pig\", \"dog\", \"cow\"]"
   ]
  },
  {
   "cell_type": "code",
   "execution_count": 3,
   "id": "e1a6099a",
   "metadata": {},
   "outputs": [
    {
     "data": {
      "text/plain": [
       "['cat', 'horse']"
      ]
     },
     "execution_count": 3,
     "metadata": {},
     "output_type": "execute_result"
    }
   ],
   "source": [
    "# print first two animals\n",
    "animal_list[:2]"
   ]
  },
  {
   "cell_type": "code",
   "execution_count": 4,
   "id": "2bea910b",
   "metadata": {},
   "outputs": [
    {
     "data": {
      "text/plain": [
       "['dog', 'cow']"
      ]
     },
     "execution_count": 4,
     "metadata": {},
     "output_type": "execute_result"
    }
   ],
   "source": [
    "# print last two animals\n",
    "animal_list[3:]"
   ]
  },
  {
   "cell_type": "code",
   "execution_count": 5,
   "id": "97202240",
   "metadata": {},
   "outputs": [
    {
     "data": {
      "text/plain": [
       "['cat', 'horse', 'pig', 'dog', 'cow', 'tiger', 'lion', 'cheetah']"
      ]
     },
     "execution_count": 5,
     "metadata": {},
     "output_type": "execute_result"
    }
   ],
   "source": [
    "# Add three extra animals to the variable animal_list\n",
    "animal_list.extend((\"tiger\", \"lion\", \"cheetah\"))\n",
    "animal_list"
   ]
  },
  {
   "cell_type": "code",
   "execution_count": 6,
   "id": "08d6fac8",
   "metadata": {},
   "outputs": [
    {
     "data": {
      "text/plain": [
       "['pig', 'dog', 'cow', 'tiger', 'lion', 'cheetah']"
      ]
     },
     "execution_count": 6,
     "metadata": {},
     "output_type": "execute_result"
    }
   ],
   "source": [
    "# Remove the first two animals from the variable animal_list\n",
    "# animal_list.pop(0)\n",
    "del animal_list[:2]\n",
    "animal_list"
   ]
  },
  {
   "cell_type": "code",
   "execution_count": 7,
   "id": "92559ae0",
   "metadata": {},
   "outputs": [
    {
     "data": {
      "text/plain": [
       "6"
      ]
     },
     "execution_count": 7,
     "metadata": {},
     "output_type": "execute_result"
    }
   ],
   "source": [
    "# How many animals are in the animal_list?\n",
    "len(animal_list)"
   ]
  },
  {
   "cell_type": "code",
   "execution_count": 8,
   "id": "b96a585e",
   "metadata": {},
   "outputs": [
    {
     "data": {
      "text/plain": [
       "{'cheetah', 'cow', 'dog', 'lion', 'pig', 'tiger'}"
      ]
     },
     "execution_count": 8,
     "metadata": {},
     "output_type": "execute_result"
    }
   ],
   "source": [
    "# Create a variable animal_set which stores the set of animal_list\n",
    "animal_set = set(animal_list)\n",
    "animal_set"
   ]
  },
  {
   "cell_type": "code",
   "execution_count": 9,
   "id": "10113d5d",
   "metadata": {},
   "outputs": [
    {
     "data": {
      "text/plain": [
       "6"
      ]
     },
     "execution_count": 9,
     "metadata": {},
     "output_type": "execute_result"
    }
   ],
   "source": [
    "# How many elements are in the animal_set?\n",
    "len(animal_set)"
   ]
  },
  {
   "cell_type": "markdown",
   "id": "113c9970",
   "metadata": {},
   "source": [
    "### Q4\n",
    "\n",
    "Given a list:\n",
    "\n",
    "suitcase = [\"sunglasses\", \"hat\", \"passport\", \"laptop\", \"suit\", \"shoes\"]\n",
    "\n",
    "a. Create a list called first containing only the two first items from suitcase.\n",
    "\n",
    "b. Create a list called middle containing only the two middle items from suitcase.\n",
    "\n",
    "c. Create a list called last made up only of the last two items from suitcase."
   ]
  },
  {
   "cell_type": "code",
   "execution_count": 10,
   "id": "49e0c68e",
   "metadata": {},
   "outputs": [
    {
     "name": "stdout",
     "output_type": "stream",
     "text": [
      "first: ['sunglasses', 'hat']\n",
      "middle: ['passport', 'laptop']\n",
      "last: ['suit', 'shoes']\n"
     ]
    }
   ],
   "source": [
    "# create list and assign to variable suitcase\n",
    "suitcase = [\"sunglasses\", \"hat\", \"passport\", \"laptop\", \"suit\", \"shoes\"]\n",
    "\n",
    "# create list with first two items from suitcase\n",
    "first = suitcase[:2]\n",
    "print(f\"first: {first}\")\n",
    "# create list with two middle items from suitcase\n",
    "middle = suitcase[2:4]\n",
    "print(f\"middle: {middle}\")\n",
    "# create list with last two items from suitcase\n",
    "last = suitcase[4:]\n",
    "print(f\"last: {last}\")"
   ]
  },
  {
   "cell_type": "markdown",
   "id": "711ba044",
   "metadata": {},
   "source": [
    "### Q5\n",
    "Write a python code to insert 35 into the list below. Make sure it is inserted in the right position to maintain the order of the data.\n",
    "\n",
    "`values = [20,25,30,40,45,50,55,60,65,70]`"
   ]
  },
  {
   "cell_type": "code",
   "execution_count": 11,
   "id": "6e7ad877",
   "metadata": {},
   "outputs": [
    {
     "name": "stdout",
     "output_type": "stream",
     "text": [
      "[20, 25, 30, 35, 40, 45, 50, 55, 60, 65, 70]\n"
     ]
    }
   ],
   "source": [
    "# create list\n",
    "values = [20,25,30,40,45,50,55,60,65,70]\n",
    "# insert value at index 3 in list\n",
    "values.insert(3,35)\n",
    "# print list\n",
    "print(values)"
   ]
  },
  {
   "cell_type": "markdown",
   "id": "f535cf64",
   "metadata": {},
   "source": [
    "### Q6\n",
    "\n",
    "Given that Python lists and Python tuples are quite similar – when might you prefer to use a tuple over a list?"
   ]
  },
  {
   "cell_type": "markdown",
   "id": "a7251eae",
   "metadata": {},
   "source": [
    "**Answer:**\n",
    "I would prefer a tuple over a list when I am storing related values that I will not change later. For example, longitudes and latitudes"
   ]
  },
  {
   "cell_type": "markdown",
   "id": "346927f6",
   "metadata": {},
   "source": [
    "### Q7\n",
    "Create a dictionary with 5 Ghana regions and their capitals and store it in the variable `region_capital`\n",
    "\n",
    "- Print out the keys of region_capital\n",
    "- Print out the values of region_capital\n"
   ]
  },
  {
   "cell_type": "code",
   "execution_count": 12,
   "id": "1588f6f9",
   "metadata": {},
   "outputs": [
    {
     "name": "stdout",
     "output_type": "stream",
     "text": [
      "Keys of region_capital: dict_keys(['Greater Accra', 'Ashanti Region', 'Volta Region', 'Central Region', 'Northern Region'])\n",
      "Values of region_capital: dict_values(['Accra', 'Kumasi', 'Ho', 'Cape Coast', 'Tamale'])\n"
     ]
    }
   ],
   "source": [
    "# create dictionary\n",
    "region_capital = {\"Greater Accra\": \"Accra\",\n",
    "                  \"Ashanti Region\": \"Kumasi\",\n",
    "                  \"Volta Region\": \"Ho\",\n",
    "                  \"Central Region\": \"Cape Coast\",\n",
    "                  \"Northern Region\":\"Tamale\"}\n",
    "\n",
    "# print keys from dictionary\n",
    "print(f\"Keys of region_capital: {region_capital.keys()}\")\n",
    "\n",
    "# print values from dictionary\n",
    "print(f\"Values of region_capital: {region_capital.values()}\")"
   ]
  },
  {
   "cell_type": "markdown",
   "id": "70526b3b",
   "metadata": {},
   "source": [
    "### Q8\n",
    "\n",
    "`values = [3,4,5,6,3,4,3,5,2,4,2,5,6,1,6]`\n",
    "\n",
    "Using the codes above answer the following questions:\n",
    "- What is the total number of elements in values?\n",
    "- What is the highest occuring number in the values variable?\n",
    "- Convert values into a set and store it into a variable named `values_set`\n",
    "- How many elements are in the variable values_set?\n"
   ]
  },
  {
   "cell_type": "code",
   "execution_count": 13,
   "id": "03f9e75e",
   "metadata": {},
   "outputs": [],
   "source": [
    "# create list\n",
    "values = [3,4,5,6,3,4,3,5,2,4,2,5,6,1,6,3]"
   ]
  },
  {
   "cell_type": "code",
   "execution_count": 14,
   "id": "9733ecdd",
   "metadata": {},
   "outputs": [
    {
     "data": {
      "text/plain": [
       "62"
      ]
     },
     "execution_count": 14,
     "metadata": {},
     "output_type": "execute_result"
    }
   ],
   "source": [
    "# sum of all values in the list\n",
    "sum(values)"
   ]
  },
  {
   "cell_type": "code",
   "execution_count": 15,
   "id": "231a97d8",
   "metadata": {},
   "outputs": [
    {
     "name": "stdout",
     "output_type": "stream",
     "text": [
      "Highest occurring number: 3\n"
     ]
    }
   ],
   "source": [
    "# create empty dictionary\n",
    "diction = {}\n",
    "# iterate through list and count number of times each value occurs\n",
    "for value in values:\n",
    "    diction[value] = values.count(value)\n",
    "\n",
    "# assign the highest value to a variable  \n",
    "max_value = max(diction.values())\n",
    "# print value that occurs the most in the list\n",
    "print(f\"Highest occurring number: {diction.get(max_value)}\")"
   ]
  },
  {
   "cell_type": "code",
   "execution_count": 16,
   "id": "82732866",
   "metadata": {},
   "outputs": [
    {
     "data": {
      "text/plain": [
       "{1, 2, 3, 4, 5, 6}"
      ]
     },
     "execution_count": 16,
     "metadata": {},
     "output_type": "execute_result"
    }
   ],
   "source": [
    "# convert list to set\n",
    "values_set = set(values)\n",
    "# print set\n",
    "values_set"
   ]
  },
  {
   "cell_type": "code",
   "execution_count": 17,
   "id": "05135e50",
   "metadata": {},
   "outputs": [
    {
     "data": {
      "text/plain": [
       "6"
      ]
     },
     "execution_count": 17,
     "metadata": {},
     "output_type": "execute_result"
    }
   ],
   "source": [
    "# length of list\n",
    "len(values_set)"
   ]
  },
  {
   "cell_type": "markdown",
   "id": "801d5876",
   "metadata": {},
   "source": [
    "### Q9\n",
    "Write a Python script to print a dictionary where the keys are numbers between 1 and 15 (both included) and the values are the square of the keys."
   ]
  },
  {
   "cell_type": "code",
   "execution_count": 18,
   "id": "dd9ea812",
   "metadata": {},
   "outputs": [
    {
     "data": {
      "text/plain": [
       "{1: 1,\n",
       " 2: 4,\n",
       " 3: 9,\n",
       " 4: 16,\n",
       " 5: 25,\n",
       " 6: 36,\n",
       " 7: 49,\n",
       " 8: 64,\n",
       " 9: 81,\n",
       " 10: 100,\n",
       " 11: 121,\n",
       " 12: 144,\n",
       " 13: 169,\n",
       " 14: 196,\n",
       " 15: 225}"
      ]
     },
     "execution_count": 18,
     "metadata": {},
     "output_type": "execute_result"
    }
   ],
   "source": [
    "# create empty dictionary\n",
    "dicts = {}\n",
    "\n",
    "# use numbers between 1 and 15 as keys and their squares as values\n",
    "for i in range(1,16):\n",
    "    dicts[i] = i ** 2\n",
    "# display contents of dictionary    \n",
    "dicts"
   ]
  },
  {
   "cell_type": "markdown",
   "id": "18954e57",
   "metadata": {},
   "source": [
    "### Q10\n",
    "Write a Python program to create a dictionary of keys x, y, and z where each key has as value a list from 11-20, 21-30, and 31-40 respectively. Access the fifth value of each key from the dictionary."
   ]
  },
  {
   "cell_type": "code",
   "execution_count": 19,
   "id": "fec19820",
   "metadata": {},
   "outputs": [
    {
     "name": "stdout",
     "output_type": "stream",
     "text": [
      "x: 15\n",
      "y: 25\n",
      "z: 35\n"
     ]
    }
   ],
   "source": [
    "# create list of keys\n",
    "keys = ['x','y','z']\n",
    "\n",
    "# create empty dictionary\n",
    "diction = {}\n",
    "# iterate through keys\n",
    "for key in keys:\n",
    "    # check key and assign respective values\n",
    "    if key == 'x':\n",
    "        diction[key] = list(range(11,21))\n",
    "    elif key == 'y':\n",
    "        diction[key] = list(range(21,31))\n",
    "    else:\n",
    "        diction[key] = list(range(31,40))\n",
    "\n",
    "# iterate through list\n",
    "for key in keys:\n",
    "    # print key and fifth value\n",
    "    print(f\"{key}: {diction[key][4]}\")"
   ]
  }
 ],
 "metadata": {
  "kernelspec": {
   "display_name": "Python 3 (ipykernel)",
   "language": "python",
   "name": "python3"
  },
  "language_info": {
   "codemirror_mode": {
    "name": "ipython",
    "version": 3
   },
   "file_extension": ".py",
   "mimetype": "text/x-python",
   "name": "python",
   "nbconvert_exporter": "python",
   "pygments_lexer": "ipython3",
   "version": "3.9.12"
  }
 },
 "nbformat": 4,
 "nbformat_minor": 5
}
